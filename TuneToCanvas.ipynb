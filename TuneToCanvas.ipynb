{
 "cells": [
  {
   "cell_type": "code",
   "execution_count": null,
   "id": "429c732e-b889-4823-a04c-37faad5c2650",
   "metadata": {},
   "outputs": [],
   "source": []
  },
  {
   "cell_type": "code",
   "execution_count": 7,
   "id": "0063f0da-83a9-4ded-81fd-81bdbdeeab75",
   "metadata": {},
   "outputs": [],
   "source": [
    "import spotipy\n",
    "from spotipy.oauth2 import SpotifyOAuth\n",
    "import torch"
   ]
  },
  {
   "cell_type": "code",
   "execution_count": 2,
   "id": "fdc7e6e4-87cc-4d3b-bc3a-791c5a92ec84",
   "metadata": {},
   "outputs": [],
   "source": [
    "# Authentication\n",
    "sp = spotipy.Spotify(auth_manager=SpotifyOAuth(client_id=\"user_id\",\n",
    "                                               client_secret=\"user_secret\",\n",
    "                                               redirect_uri=\"user_url\",\n",
    "                                               scope=\"user-library-read\"))"
   ]
  },
  {
   "cell_type": "code",
   "execution_count": 3,
   "id": "6077818b-2e2f-4e62-8523-0da8a1f3c86a",
   "metadata": {},
   "outputs": [
    {
     "name": "stdout",
     "output_type": "stream",
     "text": [
      "Enter the URL you were redirected to:  https://github.com/Ashfinn?code=AQBhqAjs-yIMFOg2Zdxgi9j5ZYx8Xlx0jcZjuzxmY32P1zRrJrT4v5uCvOsFceiEIaIeCDQcKal9mIDfpJB5muXYIjB2HU7U5WrbHeAr7iYoFQ-eiPHtU1loBelDY9-8mEAPLpddvH6nbNf5APoJOVKwKqiBUXlkU55rQP21pD46JCZVcHNrqKpF1nW2YVyWoA\n"
     ]
    }
   ],
   "source": [
    "# Fetch playlist tracks\n",
    "playlist_id = 'user_playlist_id'\n",
    "results = sp.playlist_tracks(playlist_id)\n",
    "tracks = results['items']"
   ]
  },
  {
   "cell_type": "code",
   "execution_count": 4,
   "id": "c9600d08-b206-4d6a-b691-79e1d7f5a6bc",
   "metadata": {},
   "outputs": [],
   "source": [
    "# Get audio features\n",
    "track_ids = [track['track']['id'] for track in tracks]\n",
    "audio_features = sp.audio_features(track_ids)"
   ]
  },
  {
   "cell_type": "code",
   "execution_count": 5,
   "id": "624b8b5d-a4eb-495d-be04-eb2240e7426e",
   "metadata": {},
   "outputs": [],
   "source": [
    "# Analyze mood (simple example: average energy and valence)\n",
    "avg_energy = sum([feature['energy'] for feature in audio_features]) / len(audio_features)\n",
    "avg_valence = sum([feature['valence'] for feature in audio_features]) / len(audio_features)\n",
    "\n",
    "# Determine mood\n",
    "if avg_valence > 0.6 and avg_energy > 0.6:\n",
    "    mood = \"happy\"\n",
    "elif avg_valence < 0.4 and avg_energy < 0.4:\n",
    "    mood = \"sad\"\n",
    "elif avg_valence > 0.6 and avg_energy < 0.4:\n",
    "    mood = \"calm\"\n",
    "else:\n",
    "    mood = \"energetic\""
   ]
  },
  {
   "cell_type": "code",
   "execution_count": 8,
   "id": "2b92d105-2425-4b9c-96d0-74c1c6fdf7ce",
   "metadata": {},
   "outputs": [
    {
     "name": "stderr",
     "output_type": "stream",
     "text": [
      "\n",
      "A module that was compiled using NumPy 1.x cannot be run in\n",
      "NumPy 2.0.0 as it may crash. To support both 1.x and 2.x\n",
      "versions of NumPy, modules must be compiled with NumPy 2.0.\n",
      "Some module may need to rebuild instead e.g. with 'pybind11>=2.12'.\n",
      "\n",
      "If you are a user of the module, the easiest solution will be to\n",
      "downgrade to 'numpy<2' or try to upgrade the affected module.\n",
      "We expect that some modules will need time to support NumPy 2.\n",
      "\n",
      "Traceback (most recent call last):  File \"<frozen runpy>\", line 198, in _run_module_as_main\n",
      "  File \"<frozen runpy>\", line 88, in _run_code\n",
      "  File \"C:\\Users\\Shawal\\AppData\\Local\\Programs\\Python\\Python311\\Lib\\site-packages\\ipykernel_launcher.py\", line 18, in <module>\n",
      "    app.launch_new_instance()\n",
      "  File \"C:\\Users\\Shawal\\AppData\\Local\\Programs\\Python\\Python311\\Lib\\site-packages\\traitlets\\config\\application.py\", line 1075, in launch_instance\n",
      "    app.start()\n",
      "  File \"C:\\Users\\Shawal\\AppData\\Local\\Programs\\Python\\Python311\\Lib\\site-packages\\ipykernel\\kernelapp.py\", line 739, in start\n",
      "    self.io_loop.start()\n",
      "  File \"C:\\Users\\Shawal\\AppData\\Local\\Programs\\Python\\Python311\\Lib\\site-packages\\tornado\\platform\\asyncio.py\", line 205, in start\n",
      "    self.asyncio_loop.run_forever()\n",
      "  File \"C:\\Users\\Shawal\\AppData\\Local\\Programs\\Python\\Python311\\Lib\\asyncio\\base_events.py\", line 608, in run_forever\n",
      "    self._run_once()\n",
      "  File \"C:\\Users\\Shawal\\AppData\\Local\\Programs\\Python\\Python311\\Lib\\asyncio\\base_events.py\", line 1936, in _run_once\n",
      "    handle._run()\n",
      "  File \"C:\\Users\\Shawal\\AppData\\Local\\Programs\\Python\\Python311\\Lib\\asyncio\\events.py\", line 84, in _run\n",
      "    self._context.run(self._callback, *self._args)\n",
      "  File \"C:\\Users\\Shawal\\AppData\\Local\\Programs\\Python\\Python311\\Lib\\site-packages\\ipykernel\\kernelbase.py\", line 545, in dispatch_queue\n",
      "    await self.process_one()\n",
      "  File \"C:\\Users\\Shawal\\AppData\\Local\\Programs\\Python\\Python311\\Lib\\site-packages\\ipykernel\\kernelbase.py\", line 534, in process_one\n",
      "    await dispatch(*args)\n",
      "  File \"C:\\Users\\Shawal\\AppData\\Local\\Programs\\Python\\Python311\\Lib\\site-packages\\ipykernel\\kernelbase.py\", line 437, in dispatch_shell\n",
      "    await result\n",
      "  File \"C:\\Users\\Shawal\\AppData\\Local\\Programs\\Python\\Python311\\Lib\\site-packages\\ipykernel\\ipkernel.py\", line 362, in execute_request\n",
      "    await super().execute_request(stream, ident, parent)\n",
      "  File \"C:\\Users\\Shawal\\AppData\\Local\\Programs\\Python\\Python311\\Lib\\site-packages\\ipykernel\\kernelbase.py\", line 778, in execute_request\n",
      "    reply_content = await reply_content\n",
      "  File \"C:\\Users\\Shawal\\AppData\\Local\\Programs\\Python\\Python311\\Lib\\site-packages\\ipykernel\\ipkernel.py\", line 449, in do_execute\n",
      "    res = shell.run_cell(\n",
      "  File \"C:\\Users\\Shawal\\AppData\\Local\\Programs\\Python\\Python311\\Lib\\site-packages\\ipykernel\\zmqshell.py\", line 549, in run_cell\n",
      "    return super().run_cell(*args, **kwargs)\n",
      "  File \"C:\\Users\\Shawal\\AppData\\Local\\Programs\\Python\\Python311\\Lib\\site-packages\\IPython\\core\\interactiveshell.py\", line 3075, in run_cell\n",
      "    result = self._run_cell(\n",
      "  File \"C:\\Users\\Shawal\\AppData\\Local\\Programs\\Python\\Python311\\Lib\\site-packages\\IPython\\core\\interactiveshell.py\", line 3130, in _run_cell\n",
      "    result = runner(coro)\n",
      "  File \"C:\\Users\\Shawal\\AppData\\Local\\Programs\\Python\\Python311\\Lib\\site-packages\\IPython\\core\\async_helpers.py\", line 128, in _pseudo_sync_runner\n",
      "    coro.send(None)\n",
      "  File \"C:\\Users\\Shawal\\AppData\\Local\\Programs\\Python\\Python311\\Lib\\site-packages\\IPython\\core\\interactiveshell.py\", line 3334, in run_cell_async\n",
      "    has_raised = await self.run_ast_nodes(code_ast.body, cell_name,\n",
      "  File \"C:\\Users\\Shawal\\AppData\\Local\\Programs\\Python\\Python311\\Lib\\site-packages\\IPython\\core\\interactiveshell.py\", line 3517, in run_ast_nodes\n",
      "    if await self.run_code(code, result, async_=asy):\n",
      "  File \"C:\\Users\\Shawal\\AppData\\Local\\Programs\\Python\\Python311\\Lib\\site-packages\\IPython\\core\\interactiveshell.py\", line 3577, in run_code\n",
      "    exec(code_obj, self.user_global_ns, self.user_ns)\n",
      "  File \"C:\\Users\\Shawal\\AppData\\Local\\Temp\\ipykernel_13720\\1343032616.py\", line 14, in <module>\n",
      "    class_vector[:, 300] = 1  # Example: Assuming 300 represents an energetic class in ImageNet\n",
      "C:\\Users\\Shawal\\AppData\\Local\\Temp\\ipykernel_13720\\1343032616.py:14: UserWarning: Failed to initialize NumPy: _ARRAY_API not found (Triggered internally at ..\\torch\\csrc\\utils\\tensor_numpy.cpp:84.)\n",
      "  class_vector[:, 300] = 1  # Example: Assuming 300 represents an energetic class in ImageNet\n"
     ]
    }
   ],
   "source": [
    "# Generate a latent vector based on mood\n",
    "class_vector = torch.zeros((1, 1000))\n",
    "\n",
    "if mood == \"happy\":\n",
    "    class_vector[:, 207] = 1  # Example: Assuming 207 represents a happy class in ImageNet\n",
    "    noise_vector = torch.randn((1, 128))  # Latent space\n",
    "elif mood == \"sad\":\n",
    "    class_vector[:, 208] = 1  # Example: Assuming 208 represents a sad class in ImageNet\n",
    "    noise_vector = torch.randn((1, 128)) * -1\n",
    "elif mood == \"calm\":\n",
    "    class_vector[:, 220] = 1  # Example: Assuming 220 represents a calm class in ImageNet\n",
    "    noise_vector = torch.randn((1, 128)) * 0.5  # Less noise for calm\n",
    "elif mood == \"energetic\":\n",
    "    class_vector[:, 300] = 1  # Example: Assuming 300 represents an energetic class in ImageNet\n",
    "    noise_vector = torch.randn((1, 128)) * 2  # More noise for energetic\n",
    "else:\n",
    "    class_vector[:, 500] = 1  # Example: Assuming 500 represents a neutral class in ImageNet\n",
    "    noise_vector = torch.randn((1, 128))"
   ]
  },
  {
   "cell_type": "code",
   "execution_count": null,
   "id": "b2465b5d-fde5-41b9-b7f8-26dd76d44d84",
   "metadata": {},
   "outputs": [],
   "source": []
  },
  {
   "cell_type": "code",
   "execution_count": null,
   "id": "b632905c-5ad0-4836-8e02-5c8ede9de8d7",
   "metadata": {},
   "outputs": [],
   "source": [
    "# Generate an image using Gemini based on mood\n",
    "if mood == \"happy\":\n",
    "    prompt = \"A vibrant and joyful scene with bright colors and happy elements\"\n",
    "elif mood == \"sad\":\n",
    "    prompt = \"A gloomy and dark scene with sad elements\"\n",
    "elif mood == \"calm\":\n",
    "    prompt = \"A serene and peaceful scene with calming elements\"\n",
    "elif mood == \"energetic\":\n",
    "    prompt = \"An energetic and dynamic scene with vibrant elements\"\n",
    "else:\n",
    "    prompt = \"A neutral scene with balanced elements\"\n"
   ]
  },
  {
   "cell_type": "code",
   "execution_count": null,
   "id": "bf78d78d-708c-4c8c-995a-1196bd9e5a02",
   "metadata": {},
   "outputs": [],
   "source": []
  }
 ],
 "metadata": {
  "kernelspec": {
   "display_name": "Python 3 (ipykernel)",
   "language": "python",
   "name": "python3"
  },
  "language_info": {
   "codemirror_mode": {
    "name": "ipython",
    "version": 3
   },
   "file_extension": ".py",
   "mimetype": "text/x-python",
   "name": "python",
   "nbconvert_exporter": "python",
   "pygments_lexer": "ipython3",
   "version": "3.12.3"
  }
 },
 "nbformat": 4,
 "nbformat_minor": 5
}
